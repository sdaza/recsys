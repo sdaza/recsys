{
  "cells": [
    {
      "cell_type": "markdown",
      "metadata": {},
      "source": [
        "# Importing necessary libraries"
      ]
    },
    {
      "cell_type": "code",
      "execution_count": 45,
      "metadata": {},
      "outputs": [],
      "source": [
        "import pandas as pd\n",
        "import numpy as np\n",
        "from scipy import sparse\n",
        "from lightfm import LightFM\n",
        "from lightfm.evaluation import auc_score\n",
        "from lightfm.data import Dataset\n",
        "import itertools"
      ]
    },
    {
      "cell_type": "markdown",
      "metadata": {},
      "source": [
        "# Creating dummy datasets "
      ]
    },
    {
      "cell_type": "code",
      "execution_count": 46,
      "metadata": {},
      "outputs": [],
      "source": [
        "# utility functions\n",
        "def get_interactions_format(data, user, item):\n",
        "        return [\n",
        "            (\n",
        "                row[user],\n",
        "                row[item]\n",
        "            )\n",
        "            for idx, row in data.iterrows()\n",
        "        ]\n",
        "\n",
        "def serialize_list(in_list):\n",
        "        return list(itertools.chain.from_iterable(in_list))\n",
        "\n",
        "def prepare_features_format(data, id, feature_columns):\n",
        "        for row in data.iterrows():\n",
        "            yield (row[1][id], [str(row[1][feature]) for feature in feature_columns])\n",
        "\n",
        "def get_uniques_by_columns(dataframe, columns):\n",
        "    uniques = list()\n",
        "    dataframe = dataframe.applymap(str)\n",
        "    for col in columns:\n",
        "        uniques.append(dataframe[col].unique())\n",
        "    return serialize_list(uniques)\n",
        "\n",
        "def flagFeatures(data, columns):\n",
        "    for c in columns:\n",
        "        data[c] = [c+':'+x for x in data[c].values]\n",
        "    return data\n",
        "\n",
        "def format_newuser_input(user_feature_map, user_feature_list):\n",
        "    num_features = len(user_feature_list)\n",
        "    normalised_val = 1.0 \n",
        "    target_indices = []\n",
        "    for feature in user_feature_list:\n",
        "        try:\n",
        "            target_indices.append(user_feature_map[feature])\n",
        "        except KeyError:\n",
        "            print(\"new user feature encountered '{}'\".format(feature))\n",
        "            pass\n",
        "    #print(\"target indices: {}\".format(target_indices))\n",
        "    new_user_features = np.zeros(len(user_feature_map.keys()))\n",
        "    for i in target_indices:\n",
        "        new_user_features[i] = normalised_val\n",
        "    new_user_features = sparse.csr_matrix(new_user_features)\n",
        "    return(new_user_features)\n",
        "\n",
        "def getrecommendations(model, user, interactions, item_map, user_map, user_features):\n",
        "    \n",
        "    n_users, n_items = interactions.shape\n",
        "    pred = model.predict(user_map[user], np.arange(n_items), user_features=user_features)\n",
        "    dd = { 'user': user,\n",
        "        'score' : pred,\n",
        "        'item': item_map.values(),\n",
        "        'item_index': item_map.keys(),\n",
        "        'purchased': np.array(interactions.todense()[user_map[user], :]).flatten()\n",
        "    }\n",
        "    dd = pd.DataFrame(dd)\n",
        "    dd = dd.sort_values(by='score', ascending=False)\n",
        "    return dd"
      ]
    },
    {
      "cell_type": "code",
      "execution_count": 47,
      "metadata": {},
      "outputs": [
        {
          "name": "stdout",
          "output_type": "stream",
          "text": [
            ":::::::: user / item :::::::::\n",
            "  user item  r\n",
            "0   u1   i1  1\n",
            "1   u1   i3  2\n",
            "2   u2   i2  1\n",
            "3   u2   i3  3\n",
            "4   u3   i1  4\n",
            "5   u3   i4  5\n",
            "6   u3   i2  2\n",
            ":::::::: user features :::::::::\n",
            "  user f1 f2 f3  loc\n",
            "0   u1  1  1  0  del\n",
            "1   u2  0  1  0  mum\n",
            "2   u3  1  1  1  del\n"
          ]
        }
      ],
      "source": [
        "# create dummy dataset\n",
        "interaction = {'user': ['u1','u1','u2','u2','u3','u3','u3'], \n",
        "        'item': ['i1','i3','i2','i3','i1','i4','i2'], \n",
        "        'r': [1,2,1,3,4,5,2]\n",
        "       }\n",
        "df = pd.DataFrame(interaction,  columns = ['user', 'item', 'r'])\n",
        "\n",
        "print(':::::::: user / item :::::::::')\n",
        "print(df)\n",
        "\n",
        "# dummy users features\n",
        "ux = {'user': ['u1', 'u2' , 'u3'], \n",
        "        'f1': ['1', '0', '1'], \n",
        "        'f2': ['1', '1', '1'],\n",
        "        'f3': ['0', '0', '1'],\n",
        "        'loc': ['del', 'mum', 'del']\n",
        "       }\n",
        "ux_features = pd.DataFrame(ux,  columns = ['user', 'f1', 'f2', 'f3', 'loc'])\n",
        "print(':::::::: user features :::::::::')\n",
        "print(ux_features)\n"
      ]
    },
    {
      "cell_type": "code",
      "execution_count": 48,
      "metadata": {},
      "outputs": [],
      "source": [
        "ux = flagFeatures(ux_features, ['f1', 'f2', 'f3', 'loc'])\n",
        "unique_user_features = get_uniques_by_columns(ux, ['f1', 'f2', 'f3', 'loc'])\n",
        "\n",
        "ii = get_interactions_format(df, 'user', 'item')\n",
        "uu = prepare_features_format(ux_features, 'user', ['f1', 'f2', 'f3', 'loc'])\n",
        "\n",
        "unique_users = get_uniques_by_columns(ux_features, ['user'])\n",
        "unique_items = get_uniques_by_columns(df, ['item'])\n",
        "\n",
        "user_map = dict(zip(unique_users, range(0, len(unique_users))))\n",
        "item_map = dict(zip(unique_items, range(0, len(unique_items))))"
      ]
    },
    {
      "cell_type": "code",
      "execution_count": 49,
      "metadata": {},
      "outputs": [],
      "source": [
        "# create datasets fro ligthFM\n",
        "dataset = Dataset()\n",
        "dataset.fit(\n",
        "    users=unique_users,\n",
        "    items=unique_items, \n",
        "    user_features = unique_user_features\n",
        ")\n",
        "\n",
        "interactions, weights = dataset.build_interactions(ii)\n",
        "user_features = dataset.build_user_features(uu, normalize=False)"
      ]
    },
    {
      "cell_type": "code",
      "execution_count": 50,
      "metadata": {},
      "outputs": [
        {
          "name": "stdout",
          "output_type": "stream",
          "text": [
            ":::::::: interactions :::::::::\n",
            "[[1 1 0 0]\n",
            " [0 1 1 0]\n",
            " [1 0 1 1]]\n",
            ":::::: user features :::::\n",
            "[[1. 0. 0. 1. 0. 1. 1. 0. 1. 0.]\n",
            " [0. 1. 0. 0. 1. 1. 1. 0. 0. 1.]\n",
            " [0. 0. 1. 1. 0. 1. 0. 1. 1. 0.]]\n"
          ]
        }
      ],
      "source": [
        "# explore matrices\n",
        "\n",
        "print(':::::::: interactions :::::::::')\n",
        "print(interactions.todense())\n",
        "\n",
        "print(\":::::: user features :::::\")\n",
        "print(user_features.todense())"
      ]
    },
    {
      "cell_type": "code",
      "execution_count": 51,
      "metadata": {},
      "outputs": [
        {
          "data": {
            "text/plain": [
              "<lightfm.lightfm.LightFM at 0x7faec9cd2310>"
            ]
          },
          "execution_count": 51,
          "metadata": {},
          "output_type": "execute_result"
        }
      ],
      "source": [
        "model = LightFM(loss='warp')\n",
        "model.fit(interactions, \n",
        "      user_features=user_features, # we have built the sparse matrix above\n",
        "      # sample_weight=weights, # spase matrix representing how much value to give to user u and item i interaction: i.e ratings\n",
        "      epochs=20)"
      ]
    },
    {
      "cell_type": "code",
      "execution_count": 52,
      "metadata": {},
      "outputs": [
        {
          "name": "stdout",
          "output_type": "stream",
          "text": [
            "Hybrid training set AUC: 0.8055556\n"
          ]
        }
      ],
      "source": [
        "train_auc = auc_score(model,\n",
        "                    interactions,\n",
        "                    user_features=user_features\n",
        "                    ).mean()\n",
        "print('Hybrid training set AUC: %s' % train_auc)"
      ]
    },
    {
      "cell_type": "code",
      "execution_count": 53,
      "metadata": {},
      "outputs": [],
      "source": [
        "# predict for existing user\n",
        "user_x = 1\n",
        "n_users, n_items = interactions.shape # no of users * no of items\n",
        "pp = model.predict(user_x, np.arange(n_items), user_features=user_features) # means predict for all"
      ]
    },
    {
      "cell_type": "code",
      "execution_count": 54,
      "metadata": {},
      "outputs": [
        {
          "name": "stdout",
          "output_type": "stream",
          "text": [
            "  user     score  item item_index  purchased\n",
            "2   u1 -2.374612     2         i2        0.0\n",
            "3   u1 -3.292638     3         i4        0.0\n",
            "  user     score  item item_index  purchased\n",
            "0   u2 -2.323379     0         i1        0.0\n",
            "3   u2 -3.280339     3         i4        0.0\n",
            "  user     score  item item_index  purchased\n",
            "1   u3 -2.217167     1         i3        0.0\n"
          ]
        }
      ],
      "source": [
        "r = getrecommendations(model, 'u1', interactions, item_map, user_map, user_features)\n",
        "print(r.loc[r.purchased == 0])\n",
        "\n",
        "r = getrecommendations(model, 'u2', interactions, item_map, user_map, user_features)\n",
        "print(r.loc[r.purchased == 0])\n",
        "\n",
        "r = getrecommendations(model, 'u3', interactions, item_map, user_map, user_features)\n",
        "print(r.loc[r.purchased == 0])"
      ]
    },
    {
      "cell_type": "code",
      "execution_count": 55,
      "metadata": {},
      "outputs": [
        {
          "data": {
            "text/plain": [
              "{'u1': 0,\n",
              " 'u2': 1,\n",
              " 'u3': 2,\n",
              " 'f1:1': 3,\n",
              " 'f1:0': 4,\n",
              " 'f2:1': 5,\n",
              " 'f3:0': 6,\n",
              " 'f3:1': 7,\n",
              " 'loc:del': 8,\n",
              " 'loc:mum': 9}"
            ]
          },
          "execution_count": 55,
          "metadata": {},
          "output_type": "execute_result"
        }
      ],
      "source": [
        "user_id_map, user_feature_map, item_id_map, item_feature_map = dataset.mapping()\n",
        "user_feature_map"
      ]
    },
    {
      "cell_type": "code",
      "execution_count": 60,
      "metadata": {},
      "outputs": [
        {
          "data": {
            "text/plain": [
              "array([-1.7631356, -1.8461933, -1.8855019, -2.421931 ], dtype=float32)"
            ]
          },
          "execution_count": 60,
          "metadata": {},
          "output_type": "execute_result"
        }
      ],
      "source": [
        "user_feature_list = ['f1:1', 'f2:1', 'f3:1', 'loc:del']\n",
        "new_user_features = format_newuser_input(user_feature_map, user_feature_list)\n",
        "# here 0 means pick the first row of the user_features sparse matrix\n",
        "model.predict(0, np.arange(n_items), user_features=new_user_features) "
      ]
    },
    {
      "cell_type": "code",
      "execution_count": 59,
      "metadata": {},
      "outputs": [
        {
          "name": "stdout",
          "output_type": "stream",
          "text": [
            "  user    f1    f2    f3      loc\n",
            "0   u1  f1:1  f2:1  f3:0  loc:del\n",
            "1   u2  f1:0  f2:1  f3:0  loc:mum\n",
            "2   u3  f1:1  f2:1  f3:1  loc:del\n",
            "['f1:1', 'f2:1', 'f3:1', 'loc:del']\n"
          ]
        }
      ],
      "source": [
        "print(ux_features)\n",
        "print(user_feature_list)"
      ]
    }
  ],
  "metadata": {
    "kernel_info": {
      "name": "python3"
    },
    "kernelspec": {
      "display_name": "Python 3.9.2 ('env': venv)",
      "language": "python",
      "name": "python3"
    },
    "language_info": {
      "codemirror_mode": {
        "name": "ipython",
        "version": 3
      },
      "file_extension": ".py",
      "mimetype": "text/x-python",
      "name": "python",
      "nbconvert_exporter": "python",
      "pygments_lexer": "ipython3",
      "version": "3.9.2"
    },
    "nteract": {
      "version": "nteract-front-end@1.0.0"
    },
    "vscode": {
      "interpreter": {
        "hash": "ebee73523583d29fc618ed2f3bce5124be5ed8f6e7401d3a22acad52f714a920"
      }
    }
  },
  "nbformat": 4,
  "nbformat_minor": 2
}
